{
 "cells": [
  {
   "cell_type": "code",
   "execution_count": 1,
   "metadata": {},
   "outputs": [],
   "source": [
    "import json"
   ]
  },
  {
   "cell_type": "code",
   "execution_count": 2,
   "metadata": {},
   "outputs": [],
   "source": [
    "file = open('dallas_coordinates.json')\n",
    "coordinates = json.load(file)\n",
    "array = coordinates['features']"
   ]
  },
  {
   "cell_type": "code",
   "execution_count": 3,
   "metadata": {},
   "outputs": [],
   "source": [
    "houses = open('joined.json')\n",
    "houses = json.load(houses)\n",
    "houses = houses['features']"
   ]
  },
  {
   "cell_type": "code",
   "execution_count": 4,
   "metadata": {},
   "outputs": [],
   "source": [
    "for i in range(0,25):\n",
    "    array[i]['properties']['avg'] = 0 # Initialize average placeholder as 0 "
   ]
  },
  {
   "cell_type": "code",
   "execution_count": 5,
   "metadata": {},
   "outputs": [],
   "source": [
    "# loop thru list and calculate average house price\n",
    "neighborhoods = {}\n",
    "neighborhood_average = {}\n",
    "\n",
    "for i in range(len(houses)):\n",
    "    \n",
    "    neighborhood = houses[i]['properties']['name']\n",
    "    price = houses[i]['properties']['price']\n",
    "\n",
    "    # For first instances: set counter = 1 and price = price\n",
    "    if neighborhood not in neighborhoods:\n",
    "        neighborhoods[neighborhood] = 1\n",
    "        neighborhoods[neighborhood + ' price'] = price\n",
    "        \n",
    "    # For repeated instances: add to counter and calculate average \n",
    "    else:\n",
    "        neighborhoods[neighborhood] += 1\n",
    "        neighborhoods[neighborhood + ' price'] = neighborhoods[neighborhood + ' price'] + price\n",
    "        neighborhood_average[neighborhood] = neighborhoods[neighborhood + ' price'] / neighborhoods[neighborhood]"
   ]
  },
  {
   "cell_type": "code",
   "execution_count": 6,
   "metadata": {},
   "outputs": [],
   "source": [
    "for i in range(0,25):\n",
    "    for key,value in neighborhood_average.items():\n",
    "        name = array[i]['properties']['name']\n",
    "        if name == key:\n",
    "            array[i]['properties']['avg'] = round(value) # Change avg value to value from dict "
   ]
  },
  {
   "cell_type": "code",
   "execution_count": 7,
   "metadata": {},
   "outputs": [],
   "source": [
    "# Export file as json \n",
    "with open('averages.json', 'w') as outfile:\n",
    "    json.dump(coordinates, outfile, indent=6)"
   ]
  },
  {
   "cell_type": "code",
   "execution_count": null,
   "metadata": {},
   "outputs": [],
   "source": []
  }
 ],
 "metadata": {
  "kernelspec": {
   "display_name": "Python 3",
   "language": "python",
   "name": "python3"
  },
  "language_info": {
   "codemirror_mode": {
    "name": "ipython",
    "version": 3
   },
   "file_extension": ".py",
   "mimetype": "text/x-python",
   "name": "python",
   "nbconvert_exporter": "python",
   "pygments_lexer": "ipython3",
   "version": "3.8.5"
  }
 },
 "nbformat": 4,
 "nbformat_minor": 4
}
